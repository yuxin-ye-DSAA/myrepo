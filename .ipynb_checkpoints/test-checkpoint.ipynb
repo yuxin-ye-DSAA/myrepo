{
 "cells": [
  {
   "cell_type": "code",
   "execution_count": 1,
   "id": "a740fd66",
   "metadata": {},
   "outputs": [
    {
     "name": "stdout",
     "output_type": "stream",
     "text": [
      "Name: Yuxin Ye\n"
     ]
    }
   ],
   "source": [
    "print(\"Name: Yuxin Ye\")"
   ]
  },
  {
   "cell_type": "code",
   "execution_count": 2,
   "id": "69719a2b",
   "metadata": {},
   "outputs": [],
   "source": [
    "def add(a,b):\n",
    "    return a+b"
   ]
  },
  {
   "cell_type": "code",
   "execution_count": null,
   "id": "76939019",
   "metadata": {},
   "outputs": [],
   "source": []
  }
 ],
 "metadata": {
  "kernelspec": {
   "display_name": "Python 3",
   "language": "python",
   "name": "python3"
  },
  "language_info": {
   "codemirror_mode": {
    "name": "ipython",
    "version": 3
   },
   "file_extension": ".py",
   "mimetype": "text/x-python",
   "name": "python",
   "nbconvert_exporter": "python",
   "pygments_lexer": "ipython3",
   "version": "3.8.8"
  }
 },
 "nbformat": 4,
 "nbformat_minor": 5
}
